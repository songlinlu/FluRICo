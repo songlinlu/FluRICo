{
 "cells": [
  {
   "cell_type": "code",
   "execution_count": 1,
   "id": "578794c4-fbe2-46c5-9d8b-ec4655af7aba",
   "metadata": {
    "execution": {
     "iopub.execute_input": "2025-08-22T09:59:25.225638Z",
     "iopub.status.busy": "2025-08-22T09:59:25.224968Z",
     "iopub.status.idle": "2025-08-22T09:59:26.645516Z",
     "shell.execute_reply": "2025-08-22T09:59:26.643956Z",
     "shell.execute_reply.started": "2025-08-22T09:59:25.225574Z"
    }
   },
   "outputs": [],
   "source": [
    "from utils.flurico import FluRiCoAnalysis\n",
    "\n",
    "import os\n",
    "import pandas as pd\n",
    "import numpy as np\n",
    "import warnings\n",
    "warnings.filterwarnings(\"ignore\")\n",
    "import tqdm\n",
    "from joblib import load,dump\n",
    "\n",
    "np.random.seed(888)"
   ]
  },
  {
   "cell_type": "code",
   "execution_count": 2,
   "id": "4d59291d-1074-4180-9399-8ce1f3a22b95",
   "metadata": {
    "execution": {
     "iopub.execute_input": "2025-08-22T09:59:26.657052Z",
     "iopub.status.busy": "2025-08-22T09:59:26.656640Z",
     "iopub.status.idle": "2025-08-22T09:59:27.081551Z",
     "shell.execute_reply": "2025-08-22T09:59:27.080272Z",
     "shell.execute_reply.started": "2025-08-22T09:59:26.657008Z"
    },
    "scrolled": true
   },
   "outputs": [],
   "source": [
    "# Load your data\n",
    "df_mb = pd.read_csv('data_example/clr.csv',index_col=0) # microbiome relative abundance should be processed by Centered log-ratio transformation\n",
    "df_mt = pd.read_csv('data_example/metabolites.csv',index_col=0)"
   ]
  },
  {
   "cell_type": "code",
   "execution_count": 3,
   "id": "bd047815-6a47-4d51-b3a2-3b1168a139df",
   "metadata": {
    "execution": {
     "iopub.execute_input": "2025-08-22T09:59:27.083497Z",
     "iopub.status.busy": "2025-08-22T09:59:27.083266Z",
     "iopub.status.idle": "2025-08-22T10:00:01.199727Z",
     "shell.execute_reply": "2025-08-22T10:00:01.198062Z",
     "shell.execute_reply.started": "2025-08-22T09:59:27.083473Z"
    }
   },
   "outputs": [],
   "source": [
    "# Load co-abundance data\n",
    "df_mb_corr = {}\n",
    "for i in ['HC','MIA','IA']:\n",
    "    df_mb_corr[i] = pd.read_csv(f'data_example/sparcc/{i}_median_correlation.tsv',sep='\\t',index_col=0)\n"
   ]
  },
  {
   "cell_type": "code",
   "execution_count": 4,
   "id": "cb295d82-f189-4f75-b616-7fa9c2dd85f8",
   "metadata": {
    "execution": {
     "iopub.execute_input": "2025-08-22T10:00:01.201687Z",
     "iopub.status.busy": "2025-08-22T10:00:01.201331Z",
     "iopub.status.idle": "2025-08-22T10:00:01.210976Z",
     "shell.execute_reply": "2025-08-22T10:00:01.209702Z",
     "shell.execute_reply.started": "2025-08-22T10:00:01.201651Z"
    }
   },
   "outputs": [],
   "source": [
    "# Define your analyzer\n",
    "analyzer = FluRiCoAnalysis(microbe_data=df_mb, metabolite_data=df_mt, \n",
    "                           group_labels=['HC','MIA','IA'], microbe_coab_data = df_mb_corr)\n"
   ]
  },
  {
   "cell_type": "code",
   "execution_count": 5,
   "id": "7f93585a-eb80-4edb-90de-7e0682712195",
   "metadata": {
    "execution": {
     "iopub.execute_input": "2025-08-22T10:00:01.212851Z",
     "iopub.status.busy": "2025-08-22T10:00:01.212410Z",
     "iopub.status.idle": "2025-08-22T10:16:18.495307Z",
     "shell.execute_reply": "2025-08-22T10:16:18.491498Z",
     "shell.execute_reply.started": "2025-08-22T10:00:01.212806Z"
    },
    "scrolled": true
   },
   "outputs": [
    {
     "name": "stdout",
     "output_type": "stream",
     "text": [
      "Calculating Fluctuation...\n",
      "Calculating microbe fluctuation...\n"
     ]
    },
    {
     "name": "stderr",
     "output_type": "stream",
     "text": [
      "100%|██████████| 5113/5113 [00:15<00:00, 322.70it/s]\n"
     ]
    },
    {
     "name": "stdout",
     "output_type": "stream",
     "text": [
      "Total 0 features do not have sufficient variability data for Levene test\n",
      "Calculating metabolite fluctuation...\n"
     ]
    },
    {
     "name": "stderr",
     "output_type": "stream",
     "text": [
      "100%|██████████| 763/763 [00:02<00:00, 341.10it/s]\n"
     ]
    },
    {
     "name": "stdout",
     "output_type": "stream",
     "text": [
      "Total 0 features do not have sufficient variability data for Levene test\n",
      "Applying HC group microbe coabundance...\n",
      "Calculating HC group metabolite average correlation...\n",
      "Applying MIA group microbe coabundance...\n",
      "Calculating MIA group metabolite average correlation...\n",
      "Applying IA group microbe coabundance...\n",
      "Calculating IA group metabolite average correlation...\n",
      "Calculating remote interaction...\n",
      "Calculating HC group microbe-metabolite remote interaction...\n"
     ]
    },
    {
     "name": "stderr",
     "output_type": "stream",
     "text": [
      "HC - microbe: 100%|██████████| 5113/5113 [03:04<00:00, 27.77it/s]\n"
     ]
    },
    {
     "name": "stdout",
     "output_type": "stream",
     "text": [
      "Calculating HC group metabolite-microbe remote interaction...\n"
     ]
    },
    {
     "name": "stderr",
     "output_type": "stream",
     "text": [
      "HC - metabolite: 100%|██████████| 763/763 [01:32<00:00,  8.25it/s]\n"
     ]
    },
    {
     "name": "stdout",
     "output_type": "stream",
     "text": [
      "Calculating MIA group microbe-metabolite remote interaction...\n"
     ]
    },
    {
     "name": "stderr",
     "output_type": "stream",
     "text": [
      "MIA - microbe: 100%|██████████| 5113/5113 [03:09<00:00, 26.97it/s]\n"
     ]
    },
    {
     "name": "stdout",
     "output_type": "stream",
     "text": [
      "Calculating MIA group metabolite-microbe remote interaction...\n"
     ]
    },
    {
     "name": "stderr",
     "output_type": "stream",
     "text": [
      "MIA - metabolite: 100%|██████████| 763/763 [01:32<00:00,  8.29it/s]\n"
     ]
    },
    {
     "name": "stdout",
     "output_type": "stream",
     "text": [
      "Calculating IA group microbe-metabolite remote interaction...\n"
     ]
    },
    {
     "name": "stderr",
     "output_type": "stream",
     "text": [
      "IA - microbe: 100%|██████████| 5113/5113 [03:17<00:00, 25.93it/s]\n"
     ]
    },
    {
     "name": "stdout",
     "output_type": "stream",
     "text": [
      "Calculating IA group metabolite-microbe remote interaction...\n"
     ]
    },
    {
     "name": "stderr",
     "output_type": "stream",
     "text": [
      "IA - metabolite: 100%|██████████| 763/763 [01:31<00:00,  8.36it/s]\n"
     ]
    }
   ],
   "source": [
    "all_scores = analyzer.calculate_all_scores()"
   ]
  },
  {
   "cell_type": "code",
   "execution_count": 6,
   "id": "461f485a-cb3b-495b-b016-675223301ca8",
   "metadata": {
    "execution": {
     "iopub.execute_input": "2025-08-22T10:16:18.501324Z",
     "iopub.status.busy": "2025-08-22T10:16:18.499596Z",
     "iopub.status.idle": "2025-08-22T10:16:18.799412Z",
     "shell.execute_reply": "2025-08-22T10:16:18.797935Z",
     "shell.execute_reply.started": "2025-08-22T10:16:18.501262Z"
    }
   },
   "outputs": [],
   "source": [
    "# filter top 20% feature for microbiome and metabolome in each cohort\n",
    "common_features = analyzer.query_common_features(top_percent=0.2)"
   ]
  },
  {
   "cell_type": "code",
   "execution_count": 7,
   "id": "6e8ec659-8ec4-49be-b1c4-49c8cde9657f",
   "metadata": {
    "execution": {
     "iopub.execute_input": "2025-08-22T10:16:18.801079Z",
     "iopub.status.busy": "2025-08-22T10:16:18.800623Z",
     "iopub.status.idle": "2025-08-22T10:16:18.807665Z",
     "shell.execute_reply": "2025-08-22T10:16:18.806589Z",
     "shell.execute_reply.started": "2025-08-22T10:16:18.801046Z"
    },
    "scrolled": true
   },
   "outputs": [],
   "source": [
    "def get_deepest_keys(d, prefix=None):\n",
    "\n",
    "    if prefix is None:\n",
    "        prefix = []\n",
    "    if isinstance(d, dict) and d: \n",
    "        for k, v in d.items():\n",
    "            yield from get_deepest_keys(v, prefix + [k])\n",
    "    else:\n",
    "        yield prefix"
   ]
  },
  {
   "cell_type": "code",
   "execution_count": 8,
   "id": "388cf241-c46c-49fd-a449-c1192f14aa66",
   "metadata": {
    "execution": {
     "iopub.execute_input": "2025-08-22T10:16:19.133939Z",
     "iopub.status.busy": "2025-08-22T10:16:19.133470Z",
     "iopub.status.idle": "2025-08-22T10:16:19.140610Z",
     "shell.execute_reply": "2025-08-22T10:16:19.139288Z",
     "shell.execute_reply.started": "2025-08-22T10:16:19.133906Z"
    }
   },
   "outputs": [
    {
     "name": "stdout",
     "output_type": "stream",
     "text": [
      "microbe -> common_to_all\n",
      "microbe -> unique_to_each -> HC\n",
      "microbe -> unique_to_each -> MIA\n",
      "microbe -> unique_to_each -> IA\n",
      "microbe -> pairwise_common -> HC_and_MIA\n",
      "microbe -> pairwise_common -> HC_and_IA\n",
      "microbe -> pairwise_common -> MIA_and_IA\n",
      "metabolite -> common_to_all\n",
      "metabolite -> unique_to_each -> HC\n",
      "metabolite -> unique_to_each -> MIA\n",
      "metabolite -> unique_to_each -> IA\n",
      "metabolite -> pairwise_common -> HC_and_MIA\n",
      "metabolite -> pairwise_common -> HC_and_IA\n",
      "metabolite -> pairwise_common -> MIA_and_IA\n"
     ]
    }
   ],
   "source": [
    "# common_features dict\n",
    "for path in get_deepest_keys(common_features):\n",
    "    print(\" -> \".join(path))\n",
    "\n",
    "# common_to_all means the spotlight feature\n",
    "# unique_to_each means the core feature\n",
    "# pairwise_common means with 2 set in common"
   ]
  },
  {
   "cell_type": "code",
   "execution_count": 9,
   "id": "8f6d8163-d18d-4195-8942-4f46b49391c1",
   "metadata": {
    "execution": {
     "iopub.execute_input": "2025-08-22T10:16:19.402455Z",
     "iopub.status.busy": "2025-08-22T10:16:19.402198Z",
     "iopub.status.idle": "2025-08-22T10:16:27.842715Z",
     "shell.execute_reply": "2025-08-22T10:16:27.840876Z",
     "shell.execute_reply.started": "2025-08-22T10:16:19.402428Z"
    }
   },
   "outputs": [
    {
     "name": "stdout",
     "output_type": "stream",
     "text": [
      "Integrated scores saved to results/microbe_summary_HC.csv\n",
      "Integrated scores saved to results/microbe_summary_MIA.csv\n",
      "Integrated scores saved to results/microbe_summary_IA.csv\n",
      "Fluctuation analysis p-values saved to results/microbe_fluctuation_p_values.csv\n",
      "Integrated scores saved to results/metabolite_summary_HC.csv\n",
      "Integrated scores saved to results/metabolite_summary_MIA.csv\n",
      "Integrated scores saved to results/metabolite_summary_IA.csv\n",
      "Fluctuation analysis p-values saved to results/metabolite_fluctuation_p_values.csv\n",
      "All results saved to results directory\n"
     ]
    },
    {
     "data": {
      "text/plain": [
       "['results/common_features.class']"
      ]
     },
     "execution_count": 9,
     "metadata": {},
     "output_type": "execute_result"
    }
   ],
   "source": [
    "# save the results\n",
    "analyzer.save_results(output_dir=\"results\")\n",
    "dump(analyzer,'results/analyzer.class')\n",
    "dump(common_features,'results/common_features.class')"
   ]
  },
  {
   "cell_type": "code",
   "execution_count": 10,
   "id": "e4fb86ba-d253-4f56-a7ad-9bf7e5b3906c",
   "metadata": {
    "execution": {
     "iopub.execute_input": "2025-08-22T10:16:27.845970Z",
     "iopub.status.busy": "2025-08-22T10:16:27.845085Z",
     "iopub.status.idle": "2025-08-22T10:16:27.861162Z",
     "shell.execute_reply": "2025-08-22T10:16:27.859645Z",
     "shell.execute_reply.started": "2025-08-22T10:16:27.845882Z"
    }
   },
   "outputs": [
    {
     "name": "stdout",
     "output_type": "stream",
     "text": [
      "Spotlight microbes:388, Spotlight metabolites:38\n",
      "HC core microbes:299, MIA core microbes:311, IA core microbes:308\n",
      "HC core metabolites:76, MIA core metabolites:66, IA core metabolites:64\n",
      "HC overlap microbes:166, MIA overlap microbe:169, IA overlap microbe:157, in total:492\n",
      "HC overlap metabolites:18, MIA overlap metabolites:20, IA overlap metabolites:30, in total:68\n"
     ]
    }
   ],
   "source": [
    "print(f\"Spotlight microbes:{len(common_features['microbe']['common_to_all'])}, Spotlight metabolites:{len(common_features['metabolite']['common_to_all'])}\")\n",
    "print(\n",
    "    f\"HC core microbes:{len(common_features['microbe']['unique_to_each']['HC'])}, \"\n",
    "    f\"MIA core microbes:{len(common_features['microbe']['unique_to_each']['MIA'])}, \"\n",
    "    f\"IA core microbes:{len(common_features['microbe']['unique_to_each']['IA'])}\")\n",
    "print(\n",
    "    f\"HC core metabolites:{len(common_features['metabolite']['unique_to_each']['HC'])}, \"\n",
    "    f\"MIA core metabolites:{len(common_features['metabolite']['unique_to_each']['MIA'])}, \"\n",
    "    f\"IA core metabolites:{len(common_features['metabolite']['unique_to_each']['IA'])}\")\n",
    "print(\n",
    "    f\"HC overlap microbes:{len(common_features['microbe']['pairwise_common']['HC_and_MIA'])}, \"\n",
    "    f\"MIA overlap microbe:{len(common_features['microbe']['pairwise_common']['HC_and_IA'])}, \"\n",
    "    f\"IA overlap microbe:{len(common_features['microbe']['pairwise_common']['MIA_and_IA'])}, \"\n",
    "    f\"in total:{len(common_features['microbe']['pairwise_common']['HC_and_MIA'])+len(common_features['microbe']['pairwise_common']['HC_and_IA'])+len(common_features['microbe']['pairwise_common']['MIA_and_IA'])}\")\n",
    "print(\n",
    "    f\"HC overlap metabolites:{len(common_features['metabolite']['pairwise_common']['HC_and_MIA'])}, \"\n",
    "    f\"MIA overlap metabolites:{len(common_features['metabolite']['pairwise_common']['HC_and_IA'])}, \"\n",
    "    f\"IA overlap metabolites:{len(common_features['metabolite']['pairwise_common']['MIA_and_IA'])}, \"\n",
    "    f\"in total:{len(common_features['metabolite']['pairwise_common']['HC_and_MIA'])+len(common_features['metabolite']['pairwise_common']['HC_and_IA'])+len(common_features['metabolite']['pairwise_common']['MIA_and_IA'])}\")"
   ]
  },
  {
   "cell_type": "code",
   "execution_count": null,
   "id": "f6b59aa7-70b3-4214-aba8-b6689d976f3b",
   "metadata": {},
   "outputs": [],
   "source": []
  },
  {
   "cell_type": "code",
   "execution_count": null,
   "id": "225dabbb-d2e8-490f-ae39-d641913738f0",
   "metadata": {},
   "outputs": [],
   "source": []
  }
 ],
 "metadata": {
  "kernelspec": {
   "display_name": "lungcancer",
   "language": "python",
   "name": "lungcancer"
  },
  "language_info": {
   "codemirror_mode": {
    "name": "ipython",
    "version": 3
   },
   "file_extension": ".py",
   "mimetype": "text/x-python",
   "name": "python",
   "nbconvert_exporter": "python",
   "pygments_lexer": "ipython3",
   "version": "3.8.0"
  }
 },
 "nbformat": 4,
 "nbformat_minor": 5
}
